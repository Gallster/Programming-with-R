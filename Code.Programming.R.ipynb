{
 "cells": [
  {
   "cell_type": "code",
   "execution_count": 1,
   "metadata": {},
   "outputs": [],
   "source": [
    "#Stock prices calculation below"
   ]
  },
  {
   "cell_type": "code",
   "execution_count": null,
   "metadata": {},
   "outputs": [],
   "source": []
  },
  {
   "cell_type": "code",
   "execution_count": 1,
   "metadata": {},
   "outputs": [],
   "source": [
    "#Roa calculation below"
   ]
  },
  {
   "cell_type": "code",
   "execution_count": 10,
   "metadata": {},
   "outputs": [
    {
     "name": "stderr",
     "output_type": "stream",
     "text": [
      "Warning message:\n",
      "“attributes are not identical across measure variables; they will be dropped”"
     ]
    },
    {
     "ename": "ERROR",
     "evalue": "Error in `[.data.frame`(banks_Global, , 21): undefined columns selected\n",
     "output_type": "error",
     "traceback": [
      "Error in `[.data.frame`(banks_Global, , 21): undefined columns selected\nTraceback:\n",
      "1. banks_Global[, 21]",
      "2. `[.data.frame`(banks_Global, , 21)",
      "3. stop(\"undefined columns selected\")"
     ]
    }
   ],
   "source": [
    "#setwd()\n",
    "\n",
    "#Import data \n",
    "\n",
    "europe_asia <- read.csv(\"/Users/gustaf/Documents/GitHub/Programming-with-R/europe_Asia.csv\", \n",
    "                        header = TRUE, sep = \",\")\n",
    "\n",
    "america <- read.csv(\"/Users/gustaf/Documents/GitHub/Programming-with-R/america.csv\", \n",
    "                        header = TRUE, sep = \",\")\n",
    "\n",
    "merged_Data <- merge(europe_asia, america, all = TRUE)\n",
    "\n",
    "# bringing everything into long format\n",
    "library(reshape2)\n",
    "\n",
    "banks_Global <- melt(merged_Data, id.var = c(\"company_name\", \"year\"), \n",
    "                     measure.vars = c(\"amortization_of_deferred_charges\", \"total_assets\", \"common_equity\", \n",
    "                                      \"cogs\", \"depreciation_depletion_amortization\", \"ebit\", \n",
    "                                      \"income_before_extraordinary_items\", \"income_before_extraordinary_items_cashflow\", \n",
    "                                      \"total_interest_income\", \"operating_income_before_depreciation\", \"revenues\", \n",
    "                                      \"total_interest_expense\", \"interest_expense_long_term_debt\", \"staff_expense\", \n",
    "                                      \"expense_non_interest_bank\", \"operating_expense\", \"pension_and_retirement_expense\", \n",
    "                                      \"research_and_development_expense\", \"rental_expense\", \"country\", \"ROE\", \"ROA\", \n",
    "                                      \"cost_to_income_interest\", \"cost_to_income\", \"EBIT_Margin\", \"net_interest_margin\"))\n",
    "\n"
   ]
  },
  {
   "cell_type": "code",
   "execution_count": 2,
   "metadata": {},
   "outputs": [],
   "source": [
    "#Roe calculation below"
   ]
  },
  {
   "cell_type": "code",
   "execution_count": null,
   "metadata": {},
   "outputs": [],
   "source": []
  }
 ],
 "metadata": {
  "kernelspec": {
   "display_name": "R",
   "language": "R",
   "name": "ir"
  },
  "language_info": {
   "codemirror_mode": "r",
   "file_extension": ".r",
   "mimetype": "text/x-r-source",
   "name": "R",
   "pygments_lexer": "r",
   "version": "3.4.3"
  }
 },
 "nbformat": 4,
 "nbformat_minor": 2
}

{
 "cells": [
  {
   "cell_type": "code",
   "execution_count": null,
   "metadata": {},
   "outputs": [],
   "source": [
    "#Stock prices calculation below"
   ]
  },
  {
   "cell_type": "code",
   "execution_count": null,
   "metadata": {},
   "outputs": [],
   "source": [
    "#Import the libraries we need\n",
    "library(ggplot2)\n",
    "library(reshape2)\n",
    "\n",
    "#Vectors for regions\n",
    "asia <- c(\"JPN\", \"SGP\", \"KOR\")\n",
    "europe <- c(\"GBR\", \"FRA\", \"DEU\", \"NLD\", \"CHE\")\n",
    "usa <- (\"USA\")\n",
    "\n",
    "#Import data \n",
    "\n",
    "europe_asia <- read.csv(\"/Users/gustaf/Documents/GitHub/Programming-with-R/europe_Asia.csv\", \n",
    "                        header = TRUE, sep = \",\")\n",
    "\n",
    "america <- read.csv(\"/Users/gustaf/Documents/GitHub/Programming-with-R/america.csv\", \n",
    "                    header = TRUE, sep = \",\")\n",
    "\n",
    "merged_data <- merge(europe_asia, america, all = TRUE)\n",
    "\n",
    "# bringing everything into long format\n",
    "library(reshape2)\n",
    "\n",
    "banks_global <- melt(merged_data, id.var = c(\"company_name\", \"year\", \"country\", \"currency\"), \n",
    "                     measure.vars = c(\"amortization_of_deferred_charges\", \"total_assets\", \"common_equity\", \n",
    "                                      \"cogs\", \"depreciation_depletion_amortization\", \"ebit\", \n",
    "                                      \"income_before_extraordinary_items\", \"income_before_extraordinary_items_cashflow\", \n",
    "                                      \"total_interest_income\", \"operating_income_before_depreciation\", \"revenues\", \n",
    "                                      \"total_interest_expense\", \"interest_expense_long_term_debt\", \"staff_expense\", \n",
    "                                      \"expense_non_interest_bank\", \"operating_expense\", \"pension_and_retirement_expense\", \n",
    "                                      \"research_and_development_expense\", \"rental_expense\", \"ROE\", \"ROA\", \n",
    "                                      \"cost_to_income_interest\", \"cost_to_income\", \"EBIT_Margin\", \"net_interest_margin\"))"
   ]
  },
  {
   "cell_type": "code",
   "execution_count": null,
   "metadata": {},
   "outputs": [],
   "source": [
    "# Selecting global data\n",
    "selection_ROE_global <- banks_global$variable == \"ROE\"\n",
    "banks_global_ROE <- banks_global[selection_ROE_global,]\n",
    " \n",
    "# plotting global trends\n",
    "p_ROE_global <- ggplot(banks_global_ROE, aes(year, value)) + geom_point(aes(colour = company_name))\n",
    "p_ROE_global + labs(title = \"Yearly Global Return on Equity\", x = \"Year\", y = \"ROE\") + stat_smooth(method = \"lm\")\n",
    "\n",
    "# selecting american data\n",
    "selection_ROE_USA <- banks_global$variable == \"ROE\" & banks_global$country %in% usa\n",
    "df_ROE_USA <- dcast(banks_global[selection_ROE_USA, ], company_name ~ year, value.var = \"value\")\n",
    "\n",
    "# plotting american trends\n",
    "p_ROE_america <- ggplot(banks_global[selection_ROE_USA,], aes(year, value)) + geom_point(aes(colour = company_name))\n",
    "p_ROE_america + labs(title = \"Yearly American Return on Equity\", x = \"Year\", y = \"ROE\") + stat_smooth(method = \"lm\")\n",
    "\n",
    "# selecting european data\n",
    "selection_ROE_europe <- banks_global$variable == \"ROE\" & banks_global$country %in% europe\n",
    "df_ROE_europe <- dcast(banks_global[selection_ROE_europe, ], company_name ~ year, value.var = \"value\")\n",
    "\n",
    "# plotting european trends\n",
    "p_ROE_europe <- ggplot(banks_global[selection_ROE_europe, ], aes(year, value)) + geom_point(aes(colour = company_name))\n",
    "p_ROE_europe + labs(title = \"Yearly European Return on Equity\", x = \"Year\", y = \"ROE\") + stat_smooth(method = \"lm\")\n",
    "\n",
    "# selecting asian data\n",
    "selection_ROE_asia <- banks_global$variable == \"ROE\" & banks_global$country %in% asia\n",
    "df_ROE_asia <- dcast(banks_global[selection_ROE_asia, ], company_name ~ year, value.var = \"value\")\n",
    "\n",
    "# plotting asian trends\n",
    "p_ROE_asia <- ggplot(banks_global[selection_ROE_asia, ], aes(year, value)) + geom_point(aes(colour = company_name))\n",
    "p_ROE_asia + labs(title = \"Yearly Asian Return on Equity\", x = \"Year\", y = \"ROE\") + stat_smooth(method = \"lm\")\n",
    "\n",
    "\n",
    "# ROE AVERAGE\n",
    "\n",
    "ROE_europe_mean <- colMeans(df_ROE_europe[ ,2:19], na.rm = TRUE, dims = 1)\n",
    "#View(ebit_margin_europe_mean)\n",
    "\n",
    "ROE_asia_mean <- colMeans(df_ROE_asia[ ,2:19], na.rm = TRUE, dims = 1)\n",
    "#View(ebit_margin_asia_mean)\n",
    "\n",
    "ROE_usa_mean <- colMeans(df_ROE_USA[ ,2:19], na.rm = TRUE, dims = 1)\n",
    "#View(ebit_margin_usa_mean)\n",
    "\n",
    "\n",
    "# Merge the three regional EBIT-Margin Vectors\n",
    "regions <- c(\"Year\", \"Europe\", \"USA\", \"Asia\")\n",
    "\n",
    "\n",
    "#creating a data frame out of the regional vectors\n",
    "ROE_regional_mean <- data.frame(ROE_europe_mean, ROE_usa_mean, ROE_asia_mean)\n",
    "ROE_regional_mean <- cbind(2000:2017,ROE_regional_mean)\n",
    "colnames(ROE_regional_mean) <- regions\n",
    "ROE_regional_mean <- melt(ROE_regional_mean, id.vars = \"Year\", variable.name = \"Regions\")\n",
    "\n",
    "# plotting averages\n",
    "p_ROE_mean <- ggplot(ROE_regional_mean, aes(Year, value)) + geom_line(aes(colour = Regions))\n",
    "p_ROE_mean + labs(title = \"Annual ROE Average for Different Regions\",\n",
    "x = \"Year\", y = \"Average ROE\")\n"
   ]
  },
  {
   "cell_type": "code",
   "execution_count": null,
   "metadata": {},
   "outputs": [],
   "source": [
    "\n"
   ]
  },
  {
   "cell_type": "code",
   "execution_count": null,
   "metadata": {},
   "outputs": [],
   "source": []
  },
  {
   "cell_type": "code",
   "execution_count": null,
   "metadata": {},
   "outputs": [],
   "source": []
  },
  {
   "cell_type": "code",
   "execution_count": null,
   "metadata": {},
   "outputs": [],
   "source": []
  },
  {
   "cell_type": "code",
   "execution_count": null,
   "metadata": {},
   "outputs": [],
   "source": []
  },
  {
   "cell_type": "code",
   "execution_count": null,
   "metadata": {},
   "outputs": [],
   "source": []
  },
  {
   "cell_type": "code",
   "execution_count": null,
   "metadata": {},
   "outputs": [],
   "source": []
  },
  {
   "cell_type": "code",
   "execution_count": null,
   "metadata": {},
   "outputs": [],
   "source": []
  },
  {
   "cell_type": "code",
   "execution_count": null,
   "metadata": {},
   "outputs": [],
   "source": []
  },
  {
   "cell_type": "code",
   "execution_count": null,
   "metadata": {},
   "outputs": [],
   "source": []
  },
  {
   "cell_type": "code",
   "execution_count": null,
   "metadata": {},
   "outputs": [],
   "source": [
    "#Roa calculation below"
   ]
  },
  {
   "cell_type": "code",
   "execution_count": null,
   "metadata": {},
   "outputs": [],
   "source": [
    "# Selecting global data\n",
    "selection_ROA_global <- banks_global$variable == \"ROA\"\n",
    "banks_global_ROA <- banks_global[selection_ROA_global,]\n",
    " \n",
    "# plotting global trends\n",
    "p_ROA_global <- ggplot(banks_global_ROA, aes(year, value)) + geom_point(aes(colour = company_name))\n",
    "p_ROA_global + labs(title = \"Yearly Global Return on Assets\", x = \"Year\", y = \"ROA\") + stat_smooth(method = \"lm\")\n",
    "\n",
    "# selecting american data\n",
    "selection_ROA_USA <- banks_global$variable == \"ROA\" & banks_global$country %in% usa\n",
    "df_ROA_USA <- dcast(banks_global[selection_ROA_USA, ], company_name ~ year, value.var = \"value\")\n",
    "\n",
    "# plotting american trends\n",
    "p_ROA_america <- ggplot(banks_global[selection_ROA_USA, ], aes(year, value)) + geom_point(aes(colour = company_name))\n",
    "p_ROA_america + labs(title = \"Yearly American Return on Assets\", x = \"Year\", y = \"ROA\") + stat_smooth(method = \"lm\")\n",
    "\n",
    "# selecting european data\n",
    "selection_ROA_europe <- banks_global$variable == \"ROA\" & banks_global$country %in% europe\n",
    "df_ROA_europe <- dcast(banks_global[selection_ROA_europe, ], company_name ~ year, value.var = \"value\")\n",
    "\n",
    "# plotting european trends\n",
    "p_ROA_europe <- ggplot(banks_global[selection_ROA_europe, ], aes(year, value)) + geom_point(aes(colour = company_name))\n",
    "p_ROA_europe + labs(title = \"Yearly European Return on Assets\", x = \"Year\", y = \"ROA\") + stat_smooth(method = \"lm\")\n",
    "\n",
    "# selecting asian data\n",
    "selection_ROA_asia <- banks_global$variable == \"ROA\" & banks_global$country %in% asia\n",
    "df_ROA_asia <- dcast(banks_global[selection_ROA_asia, ], company_name ~ year, value.var = \"value\")\n",
    "\n",
    "# plotting asian trends\n",
    "p_ROA_asia <- ggplot(banks_global[selection_ROA_asia, ], aes(year, value)) + geom_point(aes(colour = company_name))\n",
    "p_ROA_asia + labs(title = \"Yearly Asian Return on Assets\", x = \"Year\", y = \"ROA\") + stat_smooth(method = \"lm\")\n",
    "\n",
    "# ROA AVERAGE\n",
    "\n",
    "ROA_europe_mean <- colMeans(df_ROA_europe[ ,2:19], na.rm = TRUE, dims = 1)\n",
    "#View(ebit_margin_europe_mean)\n",
    "\n",
    "ROA_asia_mean <- colMeans(df_ROA_asia[ ,2:19], na.rm = TRUE, dims = 1)\n",
    "#View(ebit_margin_asia_mean)\n",
    "\n",
    "ROA_usa_mean <- colMeans(df_ROA_USA[ ,2:19], na.rm = TRUE, dims = 1)\n",
    "#View(ebit_margin_usa_mean)\n",
    "\n",
    "\n",
    "# Merge the three regional EBIT-Margin Vectors\n",
    "regions <- c(\"Year\", \"Europe\", \"USA\", \"Asia\")\n",
    "\n",
    "\n",
    "#creating a data frame out of the regional vectors\n",
    "ROA_regional_mean <- data.frame(ROA_europe_mean, ROA_usa_mean, ROA_asia_mean)\n",
    "ROA_regional_mean <- cbind(2000:2017,ROA_regional_mean)\n",
    "colnames(ROA_regional_mean) <- regions\n",
    "ROA_regional_mean <- melt(ROA_regional_mean, id.vars = \"Year\", variable.name = \"Regions\")\n",
    "\n",
    "# plotting averages\n",
    "p_ROA_mean <- ggplot(ROA_regional_mean, aes(Year, value)) + geom_line(aes(colour = Regions))\n",
    "p_ROA_mean + labs(fill = \"Regions\", title = \"Annual ROA Average for Different Regions\",\n",
    "x = \"Year\", y = \"Average ROA\")"
   ]
  },
  {
   "cell_type": "code",
   "execution_count": null,
   "metadata": {},
   "outputs": [],
   "source": []
  },
  {
   "cell_type": "code",
   "execution_count": null,
   "metadata": {},
   "outputs": [],
   "source": []
  },
  {
   "cell_type": "code",
   "execution_count": null,
   "metadata": {},
   "outputs": [],
   "source": [
    "#Roe calculation below"
   ]
  },
  {
   "cell_type": "code",
   "execution_count": null,
   "metadata": {},
   "outputs": [],
   "source": []
  }
 ],
 "metadata": {
  "kernelspec": {
   "display_name": "R",
   "language": "R",
   "name": "ir"
  },
  "language_info": {
   "codemirror_mode": "r",
   "file_extension": ".r",
   "mimetype": "text/x-r-source",
   "name": "R",
   "pygments_lexer": "r",
   "version": "3.4.3"
  }
 },
 "nbformat": 4,
 "nbformat_minor": 2
}
